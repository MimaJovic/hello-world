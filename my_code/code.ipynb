{
 "cells": [
  {
   "cell_type": "code",
   "execution_count": 3,
   "metadata": {},
   "outputs": [],
   "source": [
    "import pandas as pd"
   ]
  },
  {
   "cell_type": "code",
   "execution_count": 14,
   "metadata": {},
   "outputs": [
    {
     "data": {
      "text/html": [
       "<div>\n",
       "<style scoped>\n",
       "    .dataframe tbody tr th:only-of-type {\n",
       "        vertical-align: middle;\n",
       "    }\n",
       "\n",
       "    .dataframe tbody tr th {\n",
       "        vertical-align: top;\n",
       "    }\n",
       "\n",
       "    .dataframe thead th {\n",
       "        text-align: right;\n",
       "    }\n",
       "</style>\n",
       "<table border=\"1\" class=\"dataframe\">\n",
       "  <thead>\n",
       "    <tr style=\"text-align: right;\">\n",
       "      <th></th>\n",
       "      <th>shift_id</th>\n",
       "      <th>shift_date</th>\n",
       "      <th>shift_start</th>\n",
       "      <th>shift_finish</th>\n",
       "    </tr>\n",
       "  </thead>\n",
       "  <tbody>\n",
       "    <tr>\n",
       "      <th>0</th>\n",
       "      <td>a7df23c2-4890-4d62-99c1-e6cc5419b568</td>\n",
       "      <td>2025-01-01</td>\n",
       "      <td>2025-01-01 08:00:00</td>\n",
       "      <td>2025-01-01 16:00:00</td>\n",
       "    </tr>\n",
       "    <tr>\n",
       "      <th>1</th>\n",
       "      <td>c2fa27b9-b49e-49f5-8c51-1acb869ff27f</td>\n",
       "      <td>2025-01-02</td>\n",
       "      <td>2025-01-02 08:00:00</td>\n",
       "      <td>2025-01-02 16:00:00</td>\n",
       "    </tr>\n",
       "    <tr>\n",
       "      <th>2</th>\n",
       "      <td>d81b5d8e-3fba-4b6b-8617-3d458836bd93</td>\n",
       "      <td>2025-01-03</td>\n",
       "      <td>2025-01-03 09:00:00</td>\n",
       "      <td>2025-01-03 17:00:00</td>\n",
       "    </tr>\n",
       "    <tr>\n",
       "      <th>3</th>\n",
       "      <td>8ed7f7f2-6bc5-42fc-98b9-3d9eaf7cdcf1</td>\n",
       "      <td>2025-01-04</td>\n",
       "      <td>2025-01-04 07:00:00</td>\n",
       "      <td>2025-01-04 15:00:00</td>\n",
       "    </tr>\n",
       "    <tr>\n",
       "      <th>4</th>\n",
       "      <td>7e9d9fe1-300d-4e64-9386-39435b3b3d93</td>\n",
       "      <td>2025-01-05</td>\n",
       "      <td>2025-01-05 08:00:00</td>\n",
       "      <td>2025-01-05 16:00:00</td>\n",
       "    </tr>\n",
       "  </tbody>\n",
       "</table>\n",
       "</div>"
      ],
      "text/plain": [
       "                               shift_id  shift_date          shift_start  \\\n",
       "0  a7df23c2-4890-4d62-99c1-e6cc5419b568  2025-01-01  2025-01-01 08:00:00   \n",
       "1  c2fa27b9-b49e-49f5-8c51-1acb869ff27f  2025-01-02  2025-01-02 08:00:00   \n",
       "2  d81b5d8e-3fba-4b6b-8617-3d458836bd93  2025-01-03  2025-01-03 09:00:00   \n",
       "3  8ed7f7f2-6bc5-42fc-98b9-3d9eaf7cdcf1  2025-01-04  2025-01-04 07:00:00   \n",
       "4  7e9d9fe1-300d-4e64-9386-39435b3b3d93  2025-01-05  2025-01-05 08:00:00   \n",
       "\n",
       "          shift_finish  \n",
       "0  2025-01-01 16:00:00  \n",
       "1  2025-01-02 16:00:00  \n",
       "2  2025-01-03 17:00:00  \n",
       "3  2025-01-04 15:00:00  \n",
       "4  2025-01-05 16:00:00  "
      ]
     },
     "metadata": {},
     "output_type": "display_data"
    },
    {
     "data": {
      "text/plain": [
       "shift_id        object\n",
       "shift_date      object\n",
       "shift_start     object\n",
       "shift_finish    object\n",
       "dtype: object"
      ]
     },
     "execution_count": 14,
     "metadata": {},
     "output_type": "execute_result"
    }
   ],
   "source": [
    "# Create DataFrames based on existing csv files\n",
    "raw_shifts = pd.read_csv('C:\\\\Users\\\\Igor\\\\Desktop\\\\Mima\\\\Codetiq\\\\git\\\\git_project\\\\hello-world\\\\data\\\\shifts.csv')\n",
    "display(raw_shifts)\n",
    "raw_shifts.dtypes"
   ]
  },
  {
   "cell_type": "code",
   "execution_count": 15,
   "metadata": {},
   "outputs": [
    {
     "data": {
      "text/html": [
       "<div>\n",
       "<style scoped>\n",
       "    .dataframe tbody tr th:only-of-type {\n",
       "        vertical-align: middle;\n",
       "    }\n",
       "\n",
       "    .dataframe tbody tr th {\n",
       "        vertical-align: top;\n",
       "    }\n",
       "\n",
       "    .dataframe thead th {\n",
       "        text-align: right;\n",
       "    }\n",
       "</style>\n",
       "<table border=\"1\" class=\"dataframe\">\n",
       "  <thead>\n",
       "    <tr style=\"text-align: right;\">\n",
       "      <th></th>\n",
       "      <th>break_id</th>\n",
       "      <th>shift_id</th>\n",
       "      <th>break_start</th>\n",
       "      <th>break_finish</th>\n",
       "      <th>is_paid</th>\n",
       "    </tr>\n",
       "  </thead>\n",
       "  <tbody>\n",
       "    <tr>\n",
       "      <th>0</th>\n",
       "      <td>f5ffdd74-df11-46c3-bf1b-2d4a31c67b85</td>\n",
       "      <td>a7df23c2-4890-4d62-99c1-e6cc5419b568</td>\n",
       "      <td>2025-01-01 12:00:00</td>\n",
       "      <td>2025-01-01 12:30:00</td>\n",
       "      <td>False</td>\n",
       "    </tr>\n",
       "    <tr>\n",
       "      <th>1</th>\n",
       "      <td>b75ac3fe-b09d-4605-9c7c-46c5d29f8d98</td>\n",
       "      <td>c2fa27b9-b49e-49f5-8c51-1acb869ff27f</td>\n",
       "      <td>2025-01-02 12:30:00</td>\n",
       "      <td>2025-01-02 13:00:00</td>\n",
       "      <td>True</td>\n",
       "    </tr>\n",
       "    <tr>\n",
       "      <th>2</th>\n",
       "      <td>3a2d8c8b-17a6-47c9-b4c1-bc6f08d0a1e1</td>\n",
       "      <td>d81b5d8e-3fba-4b6b-8617-3d458836bd93</td>\n",
       "      <td>2025-01-03 13:00:00</td>\n",
       "      <td>2025-01-03 13:30:00</td>\n",
       "      <td>False</td>\n",
       "    </tr>\n",
       "    <tr>\n",
       "      <th>3</th>\n",
       "      <td>4f6ab562-bca1-48ae-bf1f-b953d32d03f6</td>\n",
       "      <td>8ed7f7f2-6bc5-42fc-98b9-3d9eaf7cdcf1</td>\n",
       "      <td>2025-01-04 11:30:00</td>\n",
       "      <td>2025-01-04 12:00:00</td>\n",
       "      <td>True</td>\n",
       "    </tr>\n",
       "    <tr>\n",
       "      <th>4</th>\n",
       "      <td>b2b70a8d-12f3-4b9b-9b94-3e7a3b30943a</td>\n",
       "      <td>7e9d9fe1-300d-4e64-9386-39435b3b3d93</td>\n",
       "      <td>2025-01-05 12:00:00</td>\n",
       "      <td>2025-01-05 12:30:00</td>\n",
       "      <td>False</td>\n",
       "    </tr>\n",
       "  </tbody>\n",
       "</table>\n",
       "</div>"
      ],
      "text/plain": [
       "                               break_id                              shift_id  \\\n",
       "0  f5ffdd74-df11-46c3-bf1b-2d4a31c67b85  a7df23c2-4890-4d62-99c1-e6cc5419b568   \n",
       "1  b75ac3fe-b09d-4605-9c7c-46c5d29f8d98  c2fa27b9-b49e-49f5-8c51-1acb869ff27f   \n",
       "2  3a2d8c8b-17a6-47c9-b4c1-bc6f08d0a1e1  d81b5d8e-3fba-4b6b-8617-3d458836bd93   \n",
       "3  4f6ab562-bca1-48ae-bf1f-b953d32d03f6  8ed7f7f2-6bc5-42fc-98b9-3d9eaf7cdcf1   \n",
       "4  b2b70a8d-12f3-4b9b-9b94-3e7a3b30943a  7e9d9fe1-300d-4e64-9386-39435b3b3d93   \n",
       "\n",
       "           break_start         break_finish  is_paid  \n",
       "0  2025-01-01 12:00:00  2025-01-01 12:30:00    False  \n",
       "1  2025-01-02 12:30:00  2025-01-02 13:00:00     True  \n",
       "2  2025-01-03 13:00:00  2025-01-03 13:30:00    False  \n",
       "3  2025-01-04 11:30:00  2025-01-04 12:00:00     True  \n",
       "4  2025-01-05 12:00:00  2025-01-05 12:30:00    False  "
      ]
     },
     "metadata": {},
     "output_type": "display_data"
    },
    {
     "data": {
      "text/plain": [
       "break_id        object\n",
       "shift_id        object\n",
       "break_start     object\n",
       "break_finish    object\n",
       "is_paid           bool\n",
       "dtype: object"
      ]
     },
     "execution_count": 15,
     "metadata": {},
     "output_type": "execute_result"
    }
   ],
   "source": [
    "raw_breaks = pd.read_csv('C:\\\\Users\\\\Igor\\\\Desktop\\\\Mima\\\\Codetiq\\\\git\\\\git_project\\\\hello-world\\\\data\\\\breaks.csv')\n",
    "display(raw_breaks)\n",
    "raw_breaks.dtypes"
   ]
  },
  {
   "cell_type": "code",
   "execution_count": 16,
   "metadata": {},
   "outputs": [
    {
     "data": {
      "text/html": [
       "<div>\n",
       "<style scoped>\n",
       "    .dataframe tbody tr th:only-of-type {\n",
       "        vertical-align: middle;\n",
       "    }\n",
       "\n",
       "    .dataframe tbody tr th {\n",
       "        vertical-align: top;\n",
       "    }\n",
       "\n",
       "    .dataframe thead th {\n",
       "        text-align: right;\n",
       "    }\n",
       "</style>\n",
       "<table border=\"1\" class=\"dataframe\">\n",
       "  <thead>\n",
       "    <tr style=\"text-align: right;\">\n",
       "      <th></th>\n",
       "      <th>allowance_id</th>\n",
       "      <th>shift_id</th>\n",
       "      <th>allowance_value</th>\n",
       "      <th>allowance_cost</th>\n",
       "    </tr>\n",
       "  </thead>\n",
       "  <tbody>\n",
       "    <tr>\n",
       "      <th>0</th>\n",
       "      <td>ea765a5d-3dbb-48f9-b9f4-5b4e3a15e464</td>\n",
       "      <td>a7df23c2-4890-4d62-99c1-e6cc5419b568</td>\n",
       "      <td>5.0</td>\n",
       "      <td>25.0</td>\n",
       "    </tr>\n",
       "    <tr>\n",
       "      <th>1</th>\n",
       "      <td>df18d5d0-e2c1-4a32-b9bb-90a67db75e6e</td>\n",
       "      <td>c2fa27b9-b49e-49f5-8c51-1acb869ff27f</td>\n",
       "      <td>3.5</td>\n",
       "      <td>15.0</td>\n",
       "    </tr>\n",
       "    <tr>\n",
       "      <th>2</th>\n",
       "      <td>bd52f4b9-b0ba-4784-b3fd-e812fb722227</td>\n",
       "      <td>d81b5d8e-3fba-4b6b-8617-3d458836bd93</td>\n",
       "      <td>7.0</td>\n",
       "      <td>40.0</td>\n",
       "    </tr>\n",
       "    <tr>\n",
       "      <th>3</th>\n",
       "      <td>f56cf36e-e5ab-4165-b080-df2aaf9052b2</td>\n",
       "      <td>8ed7f7f2-6bc5-42fc-98b9-3d9eaf7cdcf1</td>\n",
       "      <td>4.0</td>\n",
       "      <td>18.0</td>\n",
       "    </tr>\n",
       "    <tr>\n",
       "      <th>4</th>\n",
       "      <td>3ed682b1-e029-4ad7-bf0b-8221e604da44</td>\n",
       "      <td>7e9d9fe1-300d-4e64-9386-39435b3b3d93</td>\n",
       "      <td>6.0</td>\n",
       "      <td>30.0</td>\n",
       "    </tr>\n",
       "  </tbody>\n",
       "</table>\n",
       "</div>"
      ],
      "text/plain": [
       "                           allowance_id                              shift_id  \\\n",
       "0  ea765a5d-3dbb-48f9-b9f4-5b4e3a15e464  a7df23c2-4890-4d62-99c1-e6cc5419b568   \n",
       "1  df18d5d0-e2c1-4a32-b9bb-90a67db75e6e  c2fa27b9-b49e-49f5-8c51-1acb869ff27f   \n",
       "2  bd52f4b9-b0ba-4784-b3fd-e812fb722227  d81b5d8e-3fba-4b6b-8617-3d458836bd93   \n",
       "3  f56cf36e-e5ab-4165-b080-df2aaf9052b2  8ed7f7f2-6bc5-42fc-98b9-3d9eaf7cdcf1   \n",
       "4  3ed682b1-e029-4ad7-bf0b-8221e604da44  7e9d9fe1-300d-4e64-9386-39435b3b3d93   \n",
       "\n",
       "   allowance_value  allowance_cost  \n",
       "0              5.0            25.0  \n",
       "1              3.5            15.0  \n",
       "2              7.0            40.0  \n",
       "3              4.0            18.0  \n",
       "4              6.0            30.0  "
      ]
     },
     "metadata": {},
     "output_type": "display_data"
    },
    {
     "data": {
      "text/plain": [
       "allowance_id        object\n",
       "shift_id            object\n",
       "allowance_value    float64\n",
       "allowance_cost     float64\n",
       "dtype: object"
      ]
     },
     "execution_count": 16,
     "metadata": {},
     "output_type": "execute_result"
    }
   ],
   "source": [
    "raw_allowances = pd.read_csv('C:\\\\Users\\\\Igor\\\\Desktop\\\\Mima\\\\Codetiq\\\\git\\\\git_project\\\\hello-world\\\\data\\\\allowances.csv')\n",
    "display(raw_allowances)\n",
    "raw_allowances.dtypes"
   ]
  },
  {
   "cell_type": "code",
   "execution_count": 17,
   "metadata": {},
   "outputs": [
    {
     "data": {
      "text/html": [
       "<div>\n",
       "<style scoped>\n",
       "    .dataframe tbody tr th:only-of-type {\n",
       "        vertical-align: middle;\n",
       "    }\n",
       "\n",
       "    .dataframe tbody tr th {\n",
       "        vertical-align: top;\n",
       "    }\n",
       "\n",
       "    .dataframe thead th {\n",
       "        text-align: right;\n",
       "    }\n",
       "</style>\n",
       "<table border=\"1\" class=\"dataframe\">\n",
       "  <thead>\n",
       "    <tr style=\"text-align: right;\">\n",
       "      <th></th>\n",
       "      <th>award_id</th>\n",
       "      <th>shift_id</th>\n",
       "      <th>award_date</th>\n",
       "      <th>award_units</th>\n",
       "      <th>award_cost</th>\n",
       "    </tr>\n",
       "  </thead>\n",
       "  <tbody>\n",
       "    <tr>\n",
       "      <th>0</th>\n",
       "      <td>57b6c0f2-df51-4ca7-b3ab-5a9a3f59304d</td>\n",
       "      <td>a7df23c2-4890-4d62-99c1-e6cc5419b568</td>\n",
       "      <td>2025-01-01</td>\n",
       "      <td>2.0</td>\n",
       "      <td>50.0</td>\n",
       "    </tr>\n",
       "    <tr>\n",
       "      <th>1</th>\n",
       "      <td>1c1e5279-5ab1-4c30-8fa2-39ac3a220b76</td>\n",
       "      <td>c2fa27b9-b49e-49f5-8c51-1acb869ff27f</td>\n",
       "      <td>2025-01-02</td>\n",
       "      <td>3.5</td>\n",
       "      <td>75.0</td>\n",
       "    </tr>\n",
       "    <tr>\n",
       "      <th>2</th>\n",
       "      <td>d115bd01-9cc9-42b0-88ca-e7e7c899a3b0</td>\n",
       "      <td>d81b5d8e-3fba-4b6b-8617-3d458836bd93</td>\n",
       "      <td>2025-01-03</td>\n",
       "      <td>1.5</td>\n",
       "      <td>45.0</td>\n",
       "    </tr>\n",
       "    <tr>\n",
       "      <th>3</th>\n",
       "      <td>ad2cf4b3-080b-4762-88fd-234855e6f0f1</td>\n",
       "      <td>8ed7f7f2-6bc5-42fc-98b9-3d9eaf7cdcf1</td>\n",
       "      <td>2025-01-04</td>\n",
       "      <td>2.0</td>\n",
       "      <td>40.0</td>\n",
       "    </tr>\n",
       "    <tr>\n",
       "      <th>4</th>\n",
       "      <td>c408365e-9939-4c79-b249-96fa39f7f378</td>\n",
       "      <td>7e9d9fe1-300d-4e64-9386-39435b3b3d93</td>\n",
       "      <td>2025-01-05</td>\n",
       "      <td>4.0</td>\n",
       "      <td>120.0</td>\n",
       "    </tr>\n",
       "  </tbody>\n",
       "</table>\n",
       "</div>"
      ],
      "text/plain": [
       "                               award_id                              shift_id  \\\n",
       "0  57b6c0f2-df51-4ca7-b3ab-5a9a3f59304d  a7df23c2-4890-4d62-99c1-e6cc5419b568   \n",
       "1  1c1e5279-5ab1-4c30-8fa2-39ac3a220b76  c2fa27b9-b49e-49f5-8c51-1acb869ff27f   \n",
       "2  d115bd01-9cc9-42b0-88ca-e7e7c899a3b0  d81b5d8e-3fba-4b6b-8617-3d458836bd93   \n",
       "3  ad2cf4b3-080b-4762-88fd-234855e6f0f1  8ed7f7f2-6bc5-42fc-98b9-3d9eaf7cdcf1   \n",
       "4  c408365e-9939-4c79-b249-96fa39f7f378  7e9d9fe1-300d-4e64-9386-39435b3b3d93   \n",
       "\n",
       "   award_date  award_units  award_cost  \n",
       "0  2025-01-01          2.0        50.0  \n",
       "1  2025-01-02          3.5        75.0  \n",
       "2  2025-01-03          1.5        45.0  \n",
       "3  2025-01-04          2.0        40.0  \n",
       "4  2025-01-05          4.0       120.0  "
      ]
     },
     "metadata": {},
     "output_type": "display_data"
    },
    {
     "data": {
      "text/plain": [
       "award_id        object\n",
       "shift_id        object\n",
       "award_date      object\n",
       "award_units    float64\n",
       "award_cost     float64\n",
       "dtype: object"
      ]
     },
     "execution_count": 17,
     "metadata": {},
     "output_type": "execute_result"
    }
   ],
   "source": [
    "raw_award_intr = pd.read_csv('C:\\\\Users\\\\Igor\\\\Desktop\\\\Mima\\\\Codetiq\\\\git\\\\git_project\\\\hello-world\\\\data\\\\award_interpretations.csv')\n",
    "display(raw_award_intr)\n",
    "raw_award_intr.dtypes"
   ]
  },
  {
   "cell_type": "markdown",
   "metadata": {},
   "source": [
    "Staging phase - add new field shift.cost into shifts DataFrame (sum of all costs in one shift - allowance and award interpretation costs)"
   ]
  },
  {
   "cell_type": "code",
   "execution_count": null,
   "metadata": {},
   "outputs": [],
   "source": []
  }
 ],
 "metadata": {
  "kernelspec": {
   "display_name": "Python 3",
   "language": "python",
   "name": "python3"
  },
  "language_info": {
   "codemirror_mode": {
    "name": "ipython",
    "version": 3
   },
   "file_extension": ".py",
   "mimetype": "text/x-python",
   "name": "python",
   "nbconvert_exporter": "python",
   "pygments_lexer": "ipython3",
   "version": "3.12.4"
  }
 },
 "nbformat": 4,
 "nbformat_minor": 2
}
